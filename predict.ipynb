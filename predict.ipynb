{
 "cells": [
  {
   "cell_type": "markdown",
   "metadata": {
    "_uuid": "a159858067f77111f4341c6399babe9146b992ac"
   },
   "source": [
    "# Introduction\n",
    "<br>\n",
    "**Context**\n",
    "<br>\n",
    "This notebook was created to participate in the Kaggle competition \"[House prices: Advanced Regression Technique](https://www.kaggle.com/c/house-prices-advanced-regression-techniques)\".\n",
    "<br>\n",
    "\n",
    "\n",
    "**Objective**\n",
    "<br>\n",
    "The goal of the competition was to predict the sale prices of a set of houses.\n",
    "<br>\n",
    "\n",
    "**Results**\n",
    "<br>\n",
    "On July 26th of 2018, my model was ranked within the top 23%.\n",
    "<br>\n",
    "\n",
    "**Litterature**\n",
    "<br>\n",
    "This notebook was my very first attempt to build a ML model. I've learnt many things reading other models, such as:\n",
    "<br>\n",
    "- [Comprehensive data exploration with Python](https://www.kaggle.com/pmarcelino/comprehensive-data-exploration-with-python), by Pedro Marcelino\n",
    "\n",
    "- [A study on regression applied to the Ames dataset](https://www.kaggle.com/juliencs/a-study-on-regression-applied-to-the-ames-dataset), by Julien Cohen-Solal\n",
    "\n",
    "- [Regularized Linear Models](https://www.kaggle.com/apapiu/regularized-linear-models), by Alexandru Papiu\n",
    "\n",
    "- [XGboost tuning](https://www.kaggle.com/tadepalli/xgboost-with-n-trees-autostop-0-12638), by Srini\n",
    "<br>"
   ]
  },
  {
   "cell_type": "markdown",
   "metadata": {},
   "source": [
    "<br>\n",
    "<br>\n",
    "# 1. Feature engineering\n",
    "<b>First, let's set up our environment.</b>"
   ]
  },
  {
   "cell_type": "code",
   "execution_count": 1,
   "metadata": {
    "_uuid": "bc3fb5e0999f464b1fa9a02f09d76a5d11978ac7"
   },
   "outputs": [],
   "source": [
    "# Ignore warning messages\n",
    "def warn(*args, **kwargs):\n",
    "    pass\n",
    "import warnings\n",
    "warnings.warn = warn"
   ]
  },
  {
   "cell_type": "code",
   "execution_count": 2,
   "metadata": {
    "_cell_guid": "b1076dfc-b9ad-4769-8c92-a6c4dae69d19",
    "_uuid": "8f2839f25d086af736a60e9eeb907d3b93b6e0e5"
   },
   "outputs": [],
   "source": [
    "import pandas as pd\n",
    "import numpy as np\n",
    "from sklearn.model_selection import train_test_split, cross_val_score\n",
    "from sklearn.preprocessing import Imputer\n",
    "from sklearn.metrics import mean_absolute_error, mean_squared_error\n",
    "from sklearn.cross_validation import StratifiedKFold, KFold\n",
    "from sklearn.grid_search import ParameterGrid\n",
    "from sklearn.linear_model import Ridge, Lasso\n",
    "import xgboost\n",
    "from scipy.stats import skew\n",
    "from scipy.sparse import csc_matrix\n",
    "from math import sqrt\n",
    "import matplotlib.pyplot as plt\n",
    "\n",
    "n_folds = 5\n",
    "best_score = 10\n",
    "best_params = None\n",
    "best_iter = None\n",
    "\n",
    "train = pd.read_csv(\"../../../Desktop/Préparation X/train.csv\")\n",
    "test = pd.read_csv(\"../../../Desktop/Préparation X/test.csv\")"
   ]
  },
  {
   "cell_type": "markdown",
   "metadata": {
    "_uuid": "c52be98085954cd75c8c8ea77fa4da36be81dfff"
   },
   "source": [
    "** Now, let's clean datasets.**"
   ]
  },
  {
   "cell_type": "code",
   "execution_count": 3,
   "metadata": {
    "_uuid": "4b5579a455a3a280d9f944260180e375161a54df"
   },
   "outputs": [],
   "source": [
    "# Creating polynomials on top 15 existing features\n",
    "\n",
    "corr = train.corr()\n",
    "corr.sort_values([\"SalePrice\"], ascending = False, inplace = True)\n",
    "top_15_features = corr.SalePrice[1:16].index.tolist()\n",
    "\n",
    "for col in top_15_features:\n",
    "    train[col + '_p2'] = train[col] ** 2\n",
    "    train[col + '_p3'] = train[col] ** 3\n",
    "    train[col + '_sq'] = np.sqrt(train[col])\n",
    "    \n",
    "    test[col + '_p2'] = test[col] ** 2\n",
    "    test[col + '_p3'] = test[col] ** 3\n",
    "    test[col + '_sq'] = np.sqrt(test[col])"
   ]
  },
  {
   "cell_type": "code",
   "execution_count": 4,
   "metadata": {
    "_uuid": "996a35c42b96ec5165d3531574f4910f933c9ede"
   },
   "outputs": [],
   "source": [
    "# One-hot encoding categorical variables\n",
    "\n",
    "onehot_encoded_train = pd.get_dummies(train)\n",
    "onehot_encoded_test = pd.get_dummies(test)\n",
    "\n",
    "features_missing_in_test = []\n",
    "for feature in onehot_encoded_train.columns.tolist():\n",
    "    if feature not in onehot_encoded_test.columns.tolist():\n",
    "        features_missing_in_test.append(feature)\n",
    "\n",
    "train, test = onehot_encoded_train.align(onehot_encoded_test,\n",
    "                                        join='left', \n",
    "                                        axis=1)\n",
    "\n",
    "for feature in features_missing_in_test:\n",
    "    test[feature] = 0\n",
    "\n",
    "test = test.drop(\"SalePrice\", axis = 1)"
   ]
  },
  {
   "cell_type": "code",
   "execution_count": 5,
   "metadata": {
    "_uuid": "0d3123809831d70d7737f5425fc13def06faa2b4"
   },
   "outputs": [],
   "source": [
    "# Dealing with NAs\n",
    "train = train.fillna(train.mean())\n",
    "test = test.fillna(test.mean())"
   ]
  },
  {
   "cell_type": "code",
   "execution_count": 6,
   "metadata": {
    "_uuid": "ff2118416910dbd5281a5acc3402434bcbc1a184"
   },
   "outputs": [],
   "source": [
    "# Log transforming the target & skewed numeric features\n",
    "\n",
    "train[\"SalePrice\"] = np.log1p(train[\"SalePrice\"])\n",
    "\n",
    "numeric_features = train.select_dtypes(exclude = \"object\").drop(\"SalePrice\", axis = 1).columns.tolist()\n",
    "skewed_features = train[numeric_features].apply(lambda x: skew(x.dropna()))\n",
    "skewed_features = skewed_features[skewed_features > 0.75].index # WHY 0.75?\n",
    "\n",
    "train[skewed_features] = np.log1p(train[skewed_features])\n",
    "test[skewed_features] = np.log1p(test[skewed_features])"
   ]
  },
  {
   "cell_type": "code",
   "execution_count": 7,
   "metadata": {
    "_uuid": "eb9b2d88857bfe790104d96123523c6ca3836e14"
   },
   "outputs": [],
   "source": [
    "# Extract target and format datasets\n",
    "\n",
    "target = train['SalePrice']\n",
    "del train['SalePrice']\n",
    "\n",
    "X = pd.DataFrame(train)\n",
    "y = pd.DataFrame(target)"
   ]
  },
  {
   "cell_type": "markdown",
   "metadata": {
    "_uuid": "95d80387c4197f367e4736d24923319730a36440"
   },
   "source": [
    "# 2. Modelization\n",
    "**First, let's try both Lasso and Ridge regularizations**.\n",
    "<br>Based on cross-validation RMSEs, I'll pick the best parameters and then the best model."
   ]
  },
  {
   "cell_type": "code",
   "execution_count": 8,
   "metadata": {
    "_uuid": "5bf1608ccd7a5988a809258d1bbadae7cc91785a"
   },
   "outputs": [],
   "source": [
    "# Defining a function that returns the cross-validation RMSE error\n",
    "def rmse_cv(model):\n",
    "    rmse = np.sqrt(-cross_val_score(model, X, y, scoring = \"neg_mean_squared_error\", cv = 5))\n",
    "    return (rmse)"
   ]
  },
  {
   "cell_type": "code",
   "execution_count": 9,
   "metadata": {
    "_kg_hide-output": true,
    "_uuid": "23efae912966369256f1e227d27397580a3c9fd6"
   },
   "outputs": [],
   "source": [
    "# Finding the best alpha for *Ridge* regression\n",
    "alphas_ridge = [0.05, 0.1, 0.3, 1, 3, 5, 10, 15, 30, 50, 75]\n",
    "cv_ridge = pd.Series([rmse_cv(Ridge(alpha = alpha)).mean()\n",
    "           for alpha in alphas_ridge], index = alphas_ridge)\n",
    "\n",
    "## Refine the alpha list, by adding more alphas to test close to the initial best one.\n",
    "for new_alpha in np.arange(np.argmin(cv_ridge),np.argmin(cv_ridge)*2,np.argmin(cv_ridge)/10):\n",
    "    if new_alpha not in alphas_ridge:\n",
    "        alphas_ridge.append(new_alpha)\n",
    "\n",
    "for new_alpha in np.arange(np.argmin(cv_ridge),0,-np.argmin(cv_ridge)/10):\n",
    "    if new_alpha not in alphas_ridge:\n",
    "        alphas_ridge.append(new_alpha)\n",
    "\n",
    "alphas_ridge = sorted(alphas_ridge)\n",
    "\n",
    "cv_ridge = pd.Series([rmse_cv(Ridge(alpha = alpha)).mean()\n",
    "           for alpha in alphas_ridge], index = alphas_ridge)"
   ]
  },
  {
   "cell_type": "code",
   "execution_count": 10,
   "metadata": {
    "_uuid": "3a14662a2fd678eb234dfcdce0f7edac3a8281d7",
    "scrolled": false
   },
   "outputs": [
    {
     "name": "stdout",
     "output_type": "stream",
     "text": [
      "The lower RMSE is 0.126991 and is reached when alpha = 4.\n"
     ]
    },
    {
     "data": {
      "image/png": "[encoded data removed]",
      "text/plain": [
       "<Figure size 432x288 with 1 Axes>"
      ]
     },
     "metadata": {},
     "output_type": "display_data"
    }
   ],
   "source": [
    "## Plot the results\n",
    "cv_ridge.plot(title = \"RMSEs of Ridge Regression, for each alpha\")\n",
    "plt.xlabel(\"alpha\")\n",
    "plt.ylabel(\"rmse\")\n",
    "print(\"The lower RMSE is %f and is reached when alpha = %d.\" %(min(cv_ridge), np.argmin(cv_ridge)))\n",
    "\n",
    "\n",
    "## Save the results\n",
    "alpha_ridge = np.argmin(cv_ridge)\n",
    "rmse_ridge = min(cv_ridge)"
   ]
  },
  {
   "cell_type": "code",
   "execution_count": 11,
   "metadata": {
    "_uuid": "8d1715432017dd9016e80e54b00919d356a661c8",
    "scrolled": false
   },
   "outputs": [
    {
     "name": "stdout",
     "output_type": "stream",
     "text": [
      "The lower RMSE is 0.123586 and is reached when alpha = 0.000300.\n",
      "\n"
     ]
    },
    {
     "data": {
      "image/png": "[encoded data removed]",
      "text/plain": [
       "<Figure size 432x288 with 1 Axes>"
      ]
     },
     "metadata": {},
     "output_type": "display_data"
    }
   ],
   "source": [
    "# Finding the best alpha for *Lasso* regression\n",
    "\n",
    "alphas_lasso = [1, 0.1, 0.001, 0.0005]\n",
    "cv_lasso = pd.Series([rmse_cv(Lasso(alpha = alpha)).mean()\n",
    "           for alpha in alphas_lasso], index = alphas_lasso)\n",
    "\n",
    "\n",
    "## Refine the alpha list, by adding more alphas to test close to the initial best one.\n",
    "for new_alpha in np.arange(np.argmin(cv_lasso),np.argmin(cv_lasso)*2,np.argmin(cv_lasso)/10):\n",
    "    if new_alpha not in alphas_lasso:\n",
    "        alphas_lasso.append(new_alpha)\n",
    "\n",
    "for new_alpha in np.arange(np.argmin(cv_lasso),0,-np.argmin(cv_lasso)/10):\n",
    "    if new_alpha not in alphas_lasso:\n",
    "        alphas_lasso.append(new_alpha)\n",
    "\n",
    "alphas_lasso = sorted(alphas_lasso)        \n",
    "\n",
    "cv_lasso = pd.Series([rmse_cv(Lasso(alpha = alpha)).mean()\n",
    "           for alpha in alphas_lasso], index = alphas_lasso)\n",
    "\n",
    "\n",
    "## Plot the results\n",
    "cv_lasso.plot(title = \"RMSEs of Lasso Regression, for each alpha\")\n",
    "plt.xlabel(\"alpha\")\n",
    "plt.ylabel(\"rmse\")\n",
    "print(\"The lower RMSE is %f and is reached when alpha = %f.\" %(min(cv_lasso), np.argmin(cv_lasso)))\n",
    "print()\n",
    "\n",
    "\n",
    "## Save the results\n",
    "alpha_lasso = np.argmin(cv_lasso)\n",
    "rmse_lasso = min(cv_lasso)"
   ]
  },
  {
   "cell_type": "code",
   "execution_count": 16,
   "metadata": {
    "_uuid": "834a5b31ce5c54da3967463924ad82d29fcb018d"
   },
   "outputs": [
    {
     "name": "stdout",
     "output_type": "stream",
     "text": [
      "Lasso thus seems to perform better! Let's use this regression model.\n"
     ]
    }
   ],
   "source": [
    "# Pick the best model\n",
    "if rmse_lasso > rmse_ridge:\n",
    "    print(\"Ridge seems to perform better! We'll be using this regression model.\")\n",
    "    regression_model = Ridge(alpha = alpha_ridge).fit(X,y)\n",
    "\n",
    "else:\n",
    "    print(\"Lasso thus seems to perform better! Let's use this regression model.\")\n",
    "    regression_model = Lasso(alpha = alpha_lasso).fit(X,y)\n",
    "\n",
    "regression_predictions = np.expm1(regression_model.predict(test))"
   ]
  },
  {
   "cell_type": "markdown",
   "metadata": {
    "_uuid": "497458fb4ef360061084aca9e507f6ed77eeb477"
   },
   "source": [
    "<br>**Now, let's try to improve our score by adding an XGBoost model**.\n",
    "<br><br>\n",
    "First, let's find the best parameters."
   ]
  },
  {
   "cell_type": "code",
   "execution_count": 12,
   "metadata": {
    "_uuid": "c32610254e26f572e0436bc6190e11b9489467f5",
    "collapsed": true
   },
   "outputs": [
    {
     "name": "stdout",
     "output_type": "stream",
     "text": [
      "{'colsample_bytree': 0.3, 'eta': 0.03, 'eval_metric': 'rmse', 'max_depth': 5, 'nthread': 2, 'num_round': 1000, 'objective': 'reg:linear', 'silent': 1, 'subsample': 0.2}\n",
      "The best n_rounds is 482\n",
      "0.1254476945368983\n",
      "new best\n",
      "{'colsample_bytree': 0.3, 'eta': 0.03, 'eval_metric': 'rmse', 'max_depth': 5, 'nthread': 2, 'num_round': 1000, 'objective': 'reg:linear', 'silent': 1, 'subsample': 0.4}\n",
      "The best n_rounds is 544\n",
      "0.12099796218823644\n",
      "new best\n",
      "{'colsample_bytree': 0.3, 'eta': 0.03, 'eval_metric': 'rmse', 'max_depth': 5, 'nthread': 2, 'num_round': 1000, 'objective': 'reg:linear', 'silent': 1, 'subsample': 0.6}\n",
      "The best n_rounds is 631\n",
      "{'colsample_bytree': 0.3, 'eta': 0.03, 'eval_metric': 'rmse', 'max_depth': 7, 'nthread': 2, 'num_round': 1000, 'objective': 'reg:linear', 'silent': 1, 'subsample': 0.2}\n",
      "The best n_rounds is 489\n",
      "{'colsample_bytree': 0.3, 'eta': 0.03, 'eval_metric': 'rmse', 'max_depth': 7, 'nthread': 2, 'num_round': 1000, 'objective': 'reg:linear', 'silent': 1, 'subsample': 0.4}\n",
      "The best n_rounds is 493\n",
      "{'colsample_bytree': 0.3, 'eta': 0.03, 'eval_metric': 'rmse', 'max_depth': 7, 'nthread': 2, 'num_round': 1000, 'objective': 'reg:linear', 'silent': 1, 'subsample': 0.6}\n",
      "The best n_rounds is 513\n",
      "{'colsample_bytree': 0.5, 'eta': 0.03, 'eval_metric': 'rmse', 'max_depth': 5, 'nthread': 2, 'num_round': 1000, 'objective': 'reg:linear', 'silent': 1, 'subsample': 0.2}\n",
      "The best n_rounds is 456\n",
      "{'colsample_bytree': 0.5, 'eta': 0.03, 'eval_metric': 'rmse', 'max_depth': 5, 'nthread': 2, 'num_round': 1000, 'objective': 'reg:linear', 'silent': 1, 'subsample': 0.4}\n",
      "The best n_rounds is 464\n",
      "{'colsample_bytree': 0.5, 'eta': 0.03, 'eval_metric': 'rmse', 'max_depth': 5, 'nthread': 2, 'num_round': 1000, 'objective': 'reg:linear', 'silent': 1, 'subsample': 0.6}\n",
      "The best n_rounds is 603\n",
      "{'colsample_bytree': 0.5, 'eta': 0.03, 'eval_metric': 'rmse', 'max_depth': 7, 'nthread': 2, 'num_round': 1000, 'objective': 'reg:linear', 'silent': 1, 'subsample': 0.2}\n",
      "The best n_rounds is 448\n",
      "{'colsample_bytree': 0.5, 'eta': 0.03, 'eval_metric': 'rmse', 'max_depth': 7, 'nthread': 2, 'num_round': 1000, 'objective': 'reg:linear', 'silent': 1, 'subsample': 0.4}\n",
      "The best n_rounds is 500\n",
      "{'colsample_bytree': 0.5, 'eta': 0.03, 'eval_metric': 'rmse', 'max_depth': 7, 'nthread': 2, 'num_round': 1000, 'objective': 'reg:linear', 'silent': 1, 'subsample': 0.6}\n",
      "The best n_rounds is 486\n",
      "{'colsample_bytree': 0.7, 'eta': 0.03, 'eval_metric': 'rmse', 'max_depth': 5, 'nthread': 2, 'num_round': 1000, 'objective': 'reg:linear', 'silent': 1, 'subsample': 0.2}\n",
      "The best n_rounds is 523\n",
      "{'colsample_bytree': 0.7, 'eta': 0.03, 'eval_metric': 'rmse', 'max_depth': 5, 'nthread': 2, 'num_round': 1000, 'objective': 'reg:linear', 'silent': 1, 'subsample': 0.4}\n",
      "The best n_rounds is 505\n",
      "{'colsample_bytree': 0.7, 'eta': 0.03, 'eval_metric': 'rmse', 'max_depth': 5, 'nthread': 2, 'num_round': 1000, 'objective': 'reg:linear', 'silent': 1, 'subsample': 0.6}\n",
      "The best n_rounds is 573\n",
      "{'colsample_bytree': 0.7, 'eta': 0.03, 'eval_metric': 'rmse', 'max_depth': 7, 'nthread': 2, 'num_round': 1000, 'objective': 'reg:linear', 'silent': 1, 'subsample': 0.2}\n",
      "The best n_rounds is 453\n",
      "{'colsample_bytree': 0.7, 'eta': 0.03, 'eval_metric': 'rmse', 'max_depth': 7, 'nthread': 2, 'num_round': 1000, 'objective': 'reg:linear', 'silent': 1, 'subsample': 0.4}\n",
      "The best n_rounds is 536\n",
      "{'colsample_bytree': 0.7, 'eta': 0.03, 'eval_metric': 'rmse', 'max_depth': 7, 'nthread': 2, 'num_round': 1000, 'objective': 'reg:linear', 'silent': 1, 'subsample': 0.6}\n",
      "The best n_rounds is 612\n",
      "best params: {'colsample_bytree': 0.3, 'eta': 0.03, 'eval_metric': 'rmse', 'max_depth': 5, 'nthread': 2, 'num_round': 1000, 'objective': 'reg:linear', 'silent': 1, 'subsample': 0.4}\n",
      "best score: 0.120998\n"
     ]
    }
   ],
   "source": [
    "# Spliting the train dataset into 5 folds\n",
    "train_array = np.array(X)\n",
    "target_array = np.array(y)\n",
    "\n",
    "kfold = KFold(train_array.shape[0], n_folds)\n",
    "early_stopping = 50\n",
    "\n",
    "# Creating the sets of parameters we want to test\n",
    "param_grid = [\n",
    "              {'silent': [1],\n",
    "               'nthread': [2],\n",
    "               'eval_metric': ['rmse'],\n",
    "               'eta': [0.03],\n",
    "               'objective': ['reg:linear'],\n",
    "               'max_depth': [5, 7],\n",
    "               'num_round': [1000],\n",
    "               'subsample': [0.2, 0.4, 0.6],\n",
    "               'colsample_bytree': [0.3, 0.5, 0.7],\n",
    "               }\n",
    "              ]\n",
    "\n",
    "\n",
    "# Computing RMSLE for every set of parameter\n",
    "for params in ParameterGrid(param_grid):\n",
    "    print(params)\n",
    "    \n",
    "    ## 1. Determine best n_rounds\n",
    "    xgboost_rounds = []\n",
    "    for train_index, test_index in kfold:\n",
    "        X_train, X_test = train_array[train_index], train_array[test_index]\n",
    "        y_train, y_test = target_array[train_index], target_array[test_index]\n",
    "\n",
    "        xg_train = xgboost.DMatrix(X_train, label=y_train)\n",
    "        xg_test = xgboost.DMatrix(X_test, label=y_test)\n",
    "\n",
    "        watchlist = [(xg_train, 'train'), (xg_test, 'test')]\n",
    "        num_round = params['num_round']\n",
    "        \n",
    "        xgclassifier = xgboost.train(params, xg_train, num_round,\n",
    "                                     watchlist,\n",
    "                                     early_stopping_rounds=early_stopping,\n",
    "                                     verbose_eval=False);\n",
    "        \n",
    "        xgboost_rounds.append(xgclassifier.best_iteration)\n",
    "\n",
    "    num_round = int(np.mean(xgboost_rounds))\n",
    "    print('The best n_rounds is %d' % num_round)\n",
    "    \n",
    "    ## 2. Compute RMSLE\n",
    "    rmsle_score = []\n",
    "    for cv_train_index, cv_test_index in kfold:\n",
    "        X_train, X_test = train_array[cv_train_index, :], train_array[cv_test_index, :]\n",
    "        y_train, y_test = target_array[cv_train_index], target_array[cv_test_index]\n",
    "\n",
    "        xg_train = xgboost.DMatrix(X_train, label=y_train)\n",
    "        xg_test = xgboost.DMatrix(X_test, label=y_test)\n",
    "\n",
    "        watchlist = [(xg_train, 'train'), (xg_test, 'test')]\n",
    "\n",
    "        xgclassifier = xgboost.train(params, xg_train, num_round,verbose_eval=False);\n",
    "\n",
    "        predicted_results = xgclassifier.predict(xg_test)\n",
    "        rmsle_score.append(np.sqrt(mean_squared_error(y_test, predicted_results)))\n",
    "    \n",
    "    ## 3. If the RMSLE is better than the current best, best_params will take these parameters.\n",
    "    if best_score > np.mean(rmsle_score):\n",
    "        print(np.mean(rmsle_score))\n",
    "        print('new best')\n",
    "        best_score = np.mean(rmsle_score)\n",
    "        best_params = params\n",
    "        best_iter = num_round\n",
    "\n",
    "\n",
    "# Storing the best parameters\n",
    "print('best params: %s' % best_params)\n",
    "print('best score: %f' % best_score)\n",
    "xg_train = xgboost.DMatrix(train_array, label=target_array)\n",
    "xg_test = xgboost.DMatrix(test)\n",
    "watchlist = [(xg_train, 'train')]\n",
    "num_round = best_iter"
   ]
  },
  {
   "cell_type": "code",
   "execution_count": 13,
   "metadata": {
    "_uuid": "f6bf7f8187ebb8c5688084739ed3c6825c77c1eb"
   },
   "outputs": [],
   "source": [
    "best_params = {'colsample_bytree': 0.7,\n",
    " 'eta': 0.03,\n",
    " 'eval_metric': 'rmse',\n",
    " 'max_depth': 5,\n",
    " 'nthread': 2,\n",
    " 'num_round': 1000,\n",
    " 'objective': 'reg:linear',\n",
    " 'silent': 1,\n",
    " 'subsample': 0.6}\n",
    "\n",
    "num_rounds = 625"
   ]
  },
  {
   "cell_type": "markdown",
   "metadata": {
    "_uuid": "e64364fb2e07ad41b356245d18056416acb59afd"
   },
   "source": [
    "Now, let's build our XGBoost model."
   ]
  },
  {
   "cell_type": "code",
   "execution_count": 14,
   "metadata": {
    "_uuid": "412be358a4d896c8c96eb33fa0324b6c87c5b513",
    "scrolled": true
   },
   "outputs": [],
   "source": [
    "# Building XGBoost model\n",
    "xg_train = xgboost.DMatrix(X, y)\n",
    "watchlist = [(xg_train, 'train')]\n",
    "xgb_model = xgboost.train(best_params, xg_train, num_rounds, watchlist, verbose_eval=False)\n",
    "\n",
    "# Predicting prices for test set\n",
    "xg_test = xgboost.DMatrix(test)\n",
    "xgb_predictions = np.expm1(xgb_model.predict(xg_test))"
   ]
  },
  {
   "cell_type": "markdown",
   "metadata": {},
   "source": [
    "**Last, let's create our submission file.**"
   ]
  },
  {
   "cell_type": "code",
   "execution_count": 17,
   "metadata": {
    "_uuid": "02d1fd95c729959ee7e56b388da949a398f00a6d"
   },
   "outputs": [],
   "source": [
    "predictions = 0.5 * regression_predictions + 0.5 * xgb_predictions"
   ]
  },
  {
   "cell_type": "code",
   "execution_count": 18,
   "metadata": {
    "_uuid": "d73b82d748d35cab8f9dbc61798bce2f9c513c4b"
   },
   "outputs": [
    {
     "name": "stdout",
     "output_type": "stream",
     "text": [
      "          SalePrice\n",
      "Id                 \n",
      "1461  121568.796155\n",
      "1462  157245.095539\n",
      "1463  182849.705278\n",
      "1464  195613.032965\n",
      "1465  188388.757104\n"
     ]
    }
   ],
   "source": [
    "submission = pd.DataFrame.from_csv('../../../Desktop/Préparation X/sample_submission.csv')\n",
    "submission['SalePrice'] = predictions\n",
    "print(submission.head())"
   ]
  },
  {
   "cell_type": "code",
   "execution_count": 19,
   "metadata": {
    "_uuid": "ff22c773dad2ce15ea41ffe4258408b2d32d9db4"
   },
   "outputs": [],
   "source": [
    "submission.to_csv('submission.csv', index=True)"
   ]
  }
 ],
 "metadata": {
  "kernelspec": {
   "display_name": "Python 3",
   "language": "python",
   "name": "python3"
  },
  "language_info": {
   "codemirror_mode": {
    "name": "ipython",
    "version": 3
   },
   "file_extension": ".py",
   "mimetype": "text/x-python",
   "name": "python",
   "nbconvert_exporter": "python",
   "pygments_lexer": "ipython3",
   "version": "3.6.5"
  }
 },
 "nbformat": 4,
 "nbformat_minor": 1
}
